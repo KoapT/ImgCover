{
 "cells": [
  {
   "cell_type": "code",
   "execution_count": 1,
   "metadata": {},
   "outputs": [],
   "source": [
    "import cv2\n",
    "import numpy as np\n",
    "import os "
   ]
  },
  {
   "cell_type": "code",
   "execution_count": 120,
   "metadata": {},
   "outputs": [],
   "source": [
    "img1 = cv2.imread('./background/bg.jpg')\n",
    "img2 = cv2.imread('./bird/68.png')\n",
    "img2[img2==255]=0\n",
    "# 从背景中提取出要替换的区域\n",
    "rows, cols = img2.shape[:2]\n",
    "roi = img1[:rows, :cols]\n",
    "\n",
    "# 创建掩膜\n",
    "img2gray = cv2.cvtColor(img2, cv2.COLOR_BGR2GRAY)\n",
    "ret, mask = cv2.threshold(img2gray, 0, 255, cv2.THRESH_BINARY_INV)  # >0的像素点，全部变成0，其他变成255( cv2.THRESH_BINARY_INV)\n",
    "\n",
    "# 保留除logo外的背景\n",
    "img1_bg = cv2.bitwise_and(roi, roi, mask=mask)  # 按位与\n",
    "dst = cv2.add(img1_bg, img2)  # 进行融合\n",
    "img1[:rows, :cols] = dst  # 融合后放在原图上"
   ]
  },
  {
   "cell_type": "code",
   "execution_count": 121,
   "metadata": {},
   "outputs": [],
   "source": [
    "cv2.imshow('img',img1)\n",
    "cv2.waitKey(0) \n",
    "cv2.destroyAllWindows()"
   ]
  },
  {
   "cell_type": "code",
   "execution_count": null,
   "metadata": {},
   "outputs": [],
   "source": []
  },
  {
   "cell_type": "code",
   "execution_count": 32,
   "metadata": {},
   "outputs": [
    {
     "data": {
      "text/plain": [
       "array([220, 220, 220, ..., 220, 220, 220], dtype=uint8)"
      ]
     },
     "execution_count": 32,
     "metadata": {},
     "output_type": "execute_result"
    }
   ],
   "source": [
    "mask[mask!=0]"
   ]
  },
  {
   "cell_type": "code",
   "execution_count": 34,
   "metadata": {},
   "outputs": [
    {
     "data": {
      "text/plain": [
       "array([[35, 35, 35, ..., 35, 35, 35],\n",
       "       [35, 35, 35, ..., 35, 35, 35],\n",
       "       [35, 35, 35, ..., 35, 35, 35],\n",
       "       ...,\n",
       "       [35, 35, 35, ..., 35, 35, 35],\n",
       "       [35, 35, 35, ..., 35, 35, 35],\n",
       "       [35, 35, 35, ..., 35, 35, 35]], dtype=uint8)"
      ]
     },
     "execution_count": 34,
     "metadata": {},
     "output_type": "execute_result"
    }
   ],
   "source": [
    "mask_inv"
   ]
  },
  {
   "cell_type": "code",
   "execution_count": 76,
   "metadata": {},
   "outputs": [],
   "source": [
    "im = cv2.resize(img1,(0,0),fx=.5,fy=.5)"
   ]
  },
  {
   "cell_type": "code",
   "execution_count": 78,
   "metadata": {},
   "outputs": [],
   "source": [
    "import xml.etree.ElementTree as ET"
   ]
  },
  {
   "cell_type": "code",
   "execution_count": 89,
   "metadata": {},
   "outputs": [],
   "source": [
    "#创建根节点\n",
    "root = ET.Element(\"annotation\")\n",
    "\n",
    "folder = ET.SubElement(root,\"folder\")\n",
    "folder.text = 'results'\n",
    "\n",
    "filename = ET.SubElement(root,\"filename\")\n",
    "filename.text = \"jafojfos\"\n",
    "\n",
    "path = ET.SubElement(root,'path')\n",
    "path.text = 'djkjfkdj'\n",
    "\n",
    "path = ET.SubElement(root,'path')\n",
    "path.text = 'jjjjj' \n",
    "\n",
    "\n",
    "tree = ET.ElementTree(root)\n",
    "tree.write(\"test01.xml\")"
   ]
  },
  {
   "cell_type": "code",
   "execution_count": 84,
   "metadata": {},
   "outputs": [],
   "source": [
    "#创建根节点\n",
    "root = ET.Element(\"root\")\n",
    "#创建root的子节点sub1，并添加属性\n",
    "firstNode = ET.SubElement(root,\"sub1\")\n",
    "firstNode.attrib = {\"name\":\"name attribute\",\"age\":\"age attribute\"}\n",
    "#创建子节点1（sub1）的子节点sub2，并添加数据\n",
    "secondNode = ET.SubElement(firstNode,\"sub2\")\n",
    "secondNode.text = \"test\"\n",
    "#创建elementtree对象，写文件\n",
    "tree = ET.ElementTree(root)\n",
    "tree.write(\"test01.xml\",encoding=\"utf-8\", method=\"xml\")"
   ]
  },
  {
   "cell_type": "code",
   "execution_count": 90,
   "metadata": {},
   "outputs": [],
   "source": [
    "def pretty_xml(element, indent, newline, level=0):  # elemnt为传进来的Elment类，参数indent用于缩进，newline用于换行\n",
    "    if element:  # 判断element是否有子元素    \n",
    "        if (element.text is None) or element.text.isspace():  # 如果element的text没有内容\n",
    "            element.text = newline + indent * (level + 1)\n",
    "        else:\n",
    "            element.text = newline + indent * (level + 1) + element.text.strip() + newline + indent * (level + 1)\n",
    "            # else:  # 此处两行如果把注释去掉，Element的text也会另起一行\n",
    "            # element.text = newline + indent * (level + 1) + element.text.strip() + newline + indent * level\n",
    "    temp = list(element)  # 将element转成list\n",
    "    for subelement in temp:\n",
    "        if temp.index(subelement) < (len(temp) - 1):  # 如果不是list的最后一个元素，说明下一个行是同级别元素的起始，缩进应一致\n",
    "            subelement.tail = newline + indent * (level + 1)\n",
    "        else:  # 如果是list的最后一个元素， 说明下一行是母元素的结束，缩进应该少一个    \n",
    "            subelement.tail = newline + indent * level\n",
    "        pretty_xml(subelement, indent, newline, level=level + 1)  # 对子元素进行递归操作\n",
    "\n",
    "\n",
    "tree = ET.parse('test01.xml')  # 解析movies.xml这个文件\n",
    "root = tree.getroot()  # 得到根元素，Element类\n",
    "pretty_xml(root, '\\t', '\\n')  # 执行美化方法\n",
    "tree.write('output.xml')"
   ]
  },
  {
   "cell_type": "code",
   "execution_count": null,
   "metadata": {},
   "outputs": [],
   "source": []
  },
  {
   "cell_type": "code",
   "execution_count": null,
   "metadata": {},
   "outputs": [],
   "source": []
  },
  {
   "cell_type": "code",
   "execution_count": 125,
   "metadata": {},
   "outputs": [
    {
     "data": {
      "image/png": "[encoded data removed]",
      "text/plain": [
       "<Figure size 432x288 with 1 Axes>"
      ]
     },
     "metadata": {
      "needs_background": "light"
     },
     "output_type": "display_data"
    }
   ],
   "source": [
    "# 实验， 看看random.randint   的分布情况\n",
    "import matplotlib.pyplot as plt\n",
    "import random\n",
    "X=list(range(11))\n",
    "Y = []\n",
    "N = []\n",
    "for i in range(10000):\n",
    "    Y.append(random.randint(0,10))\n",
    "Y = np.array(Y)\n",
    "for n in range(11):\n",
    "    N.append(len(Y[Y==n]))\n",
    "sum = 0\n",
    "for n in N:\n",
    "    sum+=n\n",
    "assert sum == 10000\n",
    "plt.plot(X,N)\n",
    "#在ipython的交互环境中需要这句话才能显示出来\n",
    "plt.show()"
   ]
  },
  {
   "cell_type": "code",
   "execution_count": null,
   "metadata": {},
   "outputs": [],
   "source": []
  },
  {
   "cell_type": "code",
   "execution_count": 109,
   "metadata": {},
   "outputs": [
    {
     "name": "stdout",
     "output_type": "stream",
     "text": [
      "20.png\n",
      "22.png\n",
      "50.png\n",
      "51.png\n",
      "68.png\n"
     ]
    }
   ],
   "source": [
    "for i in os.listdir('./bird'):\n",
    "    print(i)\n",
    "    img = cv2.imread(os.path.join('./bird',i))\n",
    "    cv2.imshow('img',img)\n",
    "    cv2.waitKey(0) \n",
    "    cv2.destroyAllWindows()"
   ]
  },
  {
   "cell_type": "code",
   "execution_count": 230,
   "metadata": {},
   "outputs": [
    {
     "name": "stdout",
     "output_type": "stream",
     "text": [
      "[255 255 255   0]\n"
     ]
    }
   ],
   "source": [
    "img = cv2.imread('./bird/bird.png', cv2.IMREAD_UNCHANGED)\n",
    "# img[:,:,:-1][img[:,:,:-1]==255]=0\n",
    "print(img[0,0,:])\n",
    "# cv2.imwrite('./bird/test.png',img)\n",
    "cv2.imshow('img',img)\n",
    "cv2.waitKey(0) \n",
    "cv2.destroyAllWindows()"
   ]
  },
  {
   "cell_type": "code",
   "execution_count": null,
   "metadata": {},
   "outputs": [],
   "source": []
  }
 ],
 "metadata": {
  "kernelspec": {
   "display_name": "Python 3",
   "language": "python",
   "name": "python3"
  },
  "language_info": {
   "codemirror_mode": {
    "name": "ipython",
    "version": 3
   },
   "file_extension": ".py",
   "mimetype": "text/x-python",
   "name": "python",
   "nbconvert_exporter": "python",
   "pygments_lexer": "ipython3",
   "version": "3.6.9"
  }
 },
 "nbformat": 4,
 "nbformat_minor": 4
}
